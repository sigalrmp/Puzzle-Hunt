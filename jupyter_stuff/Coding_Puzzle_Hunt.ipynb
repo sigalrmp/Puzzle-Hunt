{
 "cells": [
  {
   "cell_type": "markdown",
   "metadata": {
    "id": "pbW4BTg_Uhk6"
   },
   "source": [
    "# Coding Puzzle Hunt\n",
    "Thank you for participating in our 2025 Coding Puzzle Hunt! Here's a few things to know before you get started:\n",
    "\n",
    "1. No experience with coding or Python is required! You'll learn all the important concepts you need to know as you progress through this puzzle.\n",
    "2. You aren't expected to finish all 8 puzzles. Just try your best! You also don't have to go in order (each puzzle will list the prerequisite puzzles)\n",
    "3. Ask for help when you're stuck!\n",
    "4. Prizes will be announced!!\n",
    "\n",
    "To run code, press into a code block and then hit shift and enter.\n",
    "\n",
    "Run the code block right below this to practice! (Also it's a necessary step to set up the puzzles)."
   ]
  },
  {
   "cell_type": "code",
   "execution_count": null,
   "metadata": {},
   "outputs": [],
   "source": [
    "import submission as runner"
   ]
  },
  {
   "cell_type": "markdown",
   "metadata": {
    "id": "8XaAaM4csdD3"
   },
   "source": [
    "# Code Breakers: The Digital Vault Puzzle\n",
    "You have just been recruited by the top-secret organization **CODEX**—a group of code breakers known for their amazing problem-solving skills. Your mission? To unlock a highly encrypted **Digital Vault** rumored to hold incredible treasures (or maybe just some really awesome prizes). But beware—the vault’s security system is no ordinary one. It’s built by a genius who loves puzzles and, of course, Python code.\n",
    "You've successfully broken into their office, and must get throught the defenses on their computer by cracking a series of increasingly difficult puzzles to get to the vault and the prizes within! \n",
    "\n",
    "And now, let the hunt **begin**!\n"
   ]
  },
  {
   "cell_type": "markdown",
   "metadata": {
    "id": "dwdHmS1P6w0O"
   },
   "source": [
    "# Puzzle 0"
   ]
  },
  {
   "cell_type": "markdown",
   "metadata": {
    "id": "vmx09YRd1Tg-"
   },
   "source": [
    "In Python, you can convert integers to characters using the `chr` function, based on the [ASCII table](https://www.asciitable.com/).\n",
    "\n",
    "So if you run `chr(97)`, you'll get `'a'`. And if you run `chr(99)`, you'll get `c`.\n",
    "\n",
    "Write a function that takes an integer between 0 and 26 (0 is inclusive, 26 is exclusive), and converts it to a lowercase letter.\n",
    "\n",
    "Examples:\n",
    "\n",
    "`puzzle_0(0)` &rarr; `'a'`\n",
    "\n",
    "`puzzle_0(5)` &rarr; `'f'`."
   ]
  },
  {
   "cell_type": "code",
   "execution_count": null,
   "metadata": {
    "colab": {
     "base_uri": "https://localhost:8080/",
     "height": 106
    },
    "id": "cQ720h7L1DQE",
    "outputId": "5bfbaae9-0621-41a2-bbf6-adf79c4522f0"
   },
   "outputs": [],
   "source": [
    "def puzzle_0(n):\n",
    "  # Write your code below!"
   ]
  },
  {
   "cell_type": "code",
   "execution_count": null,
   "metadata": {
    "id": "z52BkGQ55T5d"
   },
   "outputs": [],
   "source": [
    "# Once you've written your code, test it below!\n",
    "runner.run_puzzle_0(puzzle_0, 17)"
   ]
  },
  {
   "cell_type": "markdown",
   "metadata": {
    "id": "AOeIt73644Mg"
   },
   "source": [
    "# Puzzle 1"
   ]
  },
  {
   "cell_type": "markdown",
   "metadata": {
    "id": "MTt8Qiti63v9"
   },
   "source": [
    "Now it's time to invert the transformation from Puzzle 0!\n",
    "\n",
    "In Python, you can use the `ord` function to convert from a character to an integer using the ASCII table (which is the exact opposite of what `chr` does). Write a function that takes a lowercase letter, and converts it to an integer between 0 and 26.\n",
    "\n",
    "Examples:\n",
    "\n",
    "`puzzle_1('a')` &rarr; `0`\n",
    "\n",
    "`puzzle_1('c')` &rarr; `2`"
   ]
  },
  {
   "cell_type": "code",
   "execution_count": null,
   "metadata": {
    "id": "ZO1NNREh43pm"
   },
   "outputs": [],
   "source": [
    "def puzzle_1(c):\n",
    "  # Write your code below!\n"
   ]
  },
  {
   "cell_type": "code",
   "execution_count": null,
   "metadata": {
    "id": "WSCOS8ll6GuZ"
   },
   "outputs": [],
   "source": [
    "# Once you've written your code, test it below!\n",
    "runner.run_puzzle_1(puzzle_1, 'g')"
   ]
  },
  {
   "cell_type": "markdown",
   "metadata": {
    "id": "ne3rL1fw9ooy"
   },
   "source": [
    "# Puzzle 2"
   ]
  },
  {
   "cell_type": "markdown",
   "metadata": {
    "id": "gXA7qXSc6SLg"
   },
   "source": [
    "*You find a sticky note in the desk-drawer of the laptop with the vault with a list of instructions for decoding a character. You're not sure yet what message you're going to need to decode, but you figure you might as well write the decryption code so you'll be ready!*\n",
    "\n",
    "Given a character `c`, perform the following transformation:\n",
    "1. Using `puzzle_1`, convert `c` to an integer `n`\n",
    "2. Add `2` to `n`\n",
    "3. Multiply the sum from step 2 by `7`\n",
    "4. Add `6` to the product from step 3\n",
    "5. Find the remainder of the sum from step 4 when divided by `26`\n",
    "6. Using `puzzle_0`, convert the remainder from step 5 to a character `c'`\n",
    "\n",
    "Return `c'` (found in step 6)"
   ]
  },
  {
   "cell_type": "markdown",
   "metadata": {
    "id": "l13x7exHZN6U"
   },
   "source": [
    "## New Concepts"
   ]
  },
  {
   "cell_type": "markdown",
   "metadata": {
    "id": "ffLyQrtf7ZU8"
   },
   "source": [
    "### Arithmetic Operators\n",
    "\n",
    "Arithmetic operators take numbers, manipulate them, and return a number. You should be very familiar with most of the operations we're going to be using. There's addition and subtraction which we've already used. We do multiplication using `*` and divsion using `/`.\n",
    "\n",
    "There's another common arithmetic operator which we don't use as much outside of programming.\n",
    "\n",
    "Operation: modulus\n",
    "Operator name: modulo\n",
    "Operator symbol in Python: %\n",
    "What it does: modulo finds the remainder when you divide one integer by another\n",
    "Example: `17 % 5` &rarr; `2` becuase the remainder when you divide 17 by 5 is 2\n",
    "\n",
    "### Comparison Operators\n",
    "\n",
    "Comparison operators take numbers and return a boolean.\n",
    "\n",
    "A *boolean* is a value that is either true or false (in Python, `True` or `False`).\n",
    "\n",
    "So here are the three most common comparison operators (you should be familiar with these at some level):\n",
    "\n",
    "Equals:\n",
    "- symbol: `==`\n",
    "- purpose: checks if two values are equal\n",
    "- examples:\n",
    "    - `4 == 4` &rarr; `True`\n",
    "    - `4 == 5` &rarr; `False`\n",
    "\n",
    "Less than:\n",
    "- symbol: `<`\n",
    "- purpose: checks if one value is less than another\n",
    "- examples:\n",
    "    - `4 < 4` &rarr; `False`\n",
    "    - `3 < 4` &rarr; `True`\n",
    "\n",
    "Greater than:\n",
    "- symbol: `>`\n",
    "- purpose: checks if one value is greater than another\n",
    "- examples:\n",
    "    - `4 > 5` &rarr; `False`\n",
    "    - `4 > 2` &rarr; `True`\n"
   ]
  },
  {
   "cell_type": "markdown",
   "metadata": {},
   "source": [
    "## Your solution"
   ]
  },
  {
   "cell_type": "code",
   "execution_count": null,
   "metadata": {},
   "outputs": [],
   "source": [
    "def puzzle_2(c):\n",
    "  # Write your code below!"
   ]
  },
  {
   "cell_type": "code",
   "execution_count": null,
   "metadata": {},
   "outputs": [],
   "source": [
    "# Once you've written your code, test it below!\n",
    "runner.run_puzzle_2(puzzle_2, 'd')"
   ]
  },
  {
   "cell_type": "markdown",
   "metadata": {
    "id": "7mW5NGzo9ytV"
   },
   "source": [
    "# Puzzle 3"
   ]
  },
  {
   "cell_type": "markdown",
   "metadata": {
    "id": "xC-gOYRkAilG"
   },
   "source": [
    "*Once you've finished your function to decrypt a character, you start searching for characters to decode. You search and search and are just on the verge of giving up when you accidentally knock down a poster and notice a word (although not one you've ever seen before) scratched into the wall behind it. Suddenly, you realize that your character decryption function won't be enough---you need to decrypt a whole word!*\n",
    "\n",
    "Write a function that converts a string called `message` to different string, by using `puzzle_2` to convert each individual character."
   ]
  },
  {
   "cell_type": "markdown",
   "metadata": {
    "id": "6HehwyikC34k"
   },
   "source": [
    "## New Concepts"
   ]
  },
  {
   "cell_type": "markdown",
   "metadata": {
    "id": "U2xvbpyQ_mrH"
   },
   "source": [
    "A string is the data type for text, or anything in quotation marks. So `\"asdf\"` and `\"12&^\"` are examples of strings.\n",
    "\n",
    "You can also just think of a string as being a collection or list of characters.\n",
    "\n",
    "In Python, if you have a collection of values, and you want to loop through and run code with each element in the collection, you can do that using a *for loop*.\n",
    "\n",
    "Here's the syntax of a python for loop:\n",
    "```python\n",
    "for element in collection:\n",
    "  # the code that runs for each element goes here\n",
    "  # variable element will refer to each value in collection in turn\n",
    "```\n",
    "\n",
    "And you can do that with a string!\n",
    "\n",
    "So here's how you might write a function that takes a string `s` and returns a new string that's just like `s` except there's a space after each character:"
   ]
  },
  {
   "cell_type": "code",
   "execution_count": null,
   "metadata": {
    "id": "V2_AN8fyBI8H"
   },
   "outputs": [],
   "source": [
    "def add_spaces(s):\n",
    "  # first, we make our new string, which starts out empty\n",
    "  with_spaces = \"\"\n",
    "  # then we loop through each character in s\n",
    "  for c in s:\n",
    "    # for each character c, we add c and a space to our new list\n",
    "    with_spaces += c + \" \"\n",
    "  # finally, we return our new string\n",
    "  return with_spaces"
   ]
  },
  {
   "cell_type": "markdown",
   "metadata": {
    "id": "Jp6T_jdkCE1K"
   },
   "source": [
    "Test out `add_spaces` with whatever string you want!"
   ]
  },
  {
   "cell_type": "code",
   "execution_count": null,
   "metadata": {
    "colab": {
     "base_uri": "https://localhost:8080/",
     "height": 0
    },
    "id": "1iAIzPSrCJ9k",
    "outputId": "df30be3a-78d8-44f1-a5a4-6bc62e4a8cee"
   },
   "outputs": [
    {
     "data": {
      "application/vnd.google.colaboratory.intrinsic+json": {
       "type": "string"
      },
      "text/plain": [
       "'h e l l o '"
      ]
     },
     "execution_count": 8,
     "metadata": {},
     "output_type": "execute_result"
    }
   ],
   "source": [
    "add_spaces(\"hello\")"
   ]
  },
  {
   "cell_type": "markdown",
   "metadata": {
    "id": "Y9EvHnuyCzM1"
   },
   "source": [
    "## Your solution"
   ]
  },
  {
   "cell_type": "code",
   "execution_count": null,
   "metadata": {
    "id": "VlquOQogA4qm"
   },
   "outputs": [],
   "source": [
    "def puzzle_3(message):\n",
    "  # Write your code below!\n"
   ]
  },
  {
   "cell_type": "code",
   "execution_count": null,
   "metadata": {
    "colab": {
     "base_uri": "https://localhost:8080/"
    },
    "id": "uj-r_tRHBBZ2",
    "outputId": "9729a5af-b594-41de-dd41-f0e2b7cd5548"
   },
   "outputs": [],
   "source": [
    "runner.run_puzzle_3(puzzle_3, \"wlhczy\")"
   ]
  },
  {
   "cell_type": "markdown",
   "metadata": {
    "id": "T2i5GyErDUq_"
   },
   "source": [
    "# Puzzle 4"
   ]
  },
  {
   "cell_type": "markdown",
   "metadata": {
    "id": "6daC-HuIDb5f"
   },
   "source": [
    "*Once you've successfully decoded the message, you enter it in the computer in the password bar, hoping that will be the end, and you'll get your treasure at last! Instead, you're brought to a blank screen with a series of random numbers. You start frantically scouring the desk, hoping to find more clues, only to look back up at the computer and find that a new window has popped up with a message.\n",
    "\n",
    "It says:* ***!tsil eht ni srebmun emirp eht lla muS***\n",
    "\n",
    "*You immediately realize that the punctuation is at the start and the last letter is capital, so you try reading the message in reverse. And suddenly, you know exactly what to do with the seemingly random list of integers on the screen!*\n",
    "\n",
    "Write a function that takes a list of integers called `ints` and returns a value based on the instructions above. (You may need to write a function that takes an integer and returns whether it is prime!)"
   ]
  },
  {
   "cell_type": "markdown",
   "metadata": {
    "id": "LN_EPbDgF0oQ"
   },
   "source": [
    "## New Concepts"
   ]
  },
  {
   "cell_type": "markdown",
   "metadata": {
    "id": "eGHMq20lHcJ_"
   },
   "source": [
    "### Booleans and if statements"
   ]
  },
  {
   "cell_type": "markdown",
   "metadata": {
    "id": "8tKWHouMHl6c"
   },
   "source": [
    "A boolean is just a value that is either `true` or `false`!\n",
    "\n",
    "An if statement allows you to run code conditionally. The syntax is:\n",
    "```python\n",
    "if condition:\n",
    "  # code to run if condition is true\n",
    "```\n",
    "Where `condition` is a boolean.\n",
    "\n",
    "You can also add an `else` clause:\n",
    "```python\n",
    "if condition:\n",
    "  # code to run if condition is true\n",
    "else:\n",
    "  # code to run if condition is false\n",
    "```\n",
    "So, for instance, you might (for some very practical reason) want a function called `foobar` that takes an integer, and returns `\"Foo\"` if that integer is even, and `\"Bar\"` if it is odd. Here's how you could write that:"
   ]
  },
  {
   "cell_type": "code",
   "execution_count": null,
   "metadata": {
    "id": "XkFf1_odIoj0"
   },
   "outputs": [],
   "source": [
    "def foobar(n):\n",
    "  # to check if n is even, we can use % to find the remainder of n / 2 and check if it is 0\n",
    "  if (n % 2) == 0:\n",
    "    return \"Foo\"\n",
    "  else:\n",
    "    return \"Bar\""
   ]
  },
  {
   "cell_type": "markdown",
   "metadata": {
    "id": "aTWcj0YtJNyn"
   },
   "source": [
    "Run the code block above, and then test out `foobar` with some values!"
   ]
  },
  {
   "cell_type": "code",
   "execution_count": null,
   "metadata": {
    "colab": {
     "base_uri": "https://localhost:8080/",
     "height": 35
    },
    "id": "HkBCI_IvJSzw",
    "outputId": "7ee2196b-3dc4-436d-9dae-b2afd5954510"
   },
   "outputs": [
    {
     "data": {
      "application/vnd.google.colaboratory.intrinsic+json": {
       "type": "string"
      },
      "text/plain": [
       "'Bar'"
      ]
     },
     "execution_count": 19,
     "metadata": {},
     "output_type": "execute_result"
    }
   ],
   "source": [
    "foobar(3)"
   ]
  },
  {
   "cell_type": "markdown",
   "metadata": {
    "id": "nLN5kl8bHZch"
   },
   "source": [
    "### Lists"
   ]
  },
  {
   "cell_type": "markdown",
   "metadata": {
    "id": "X-bqEetYF6wK"
   },
   "source": [
    "A list is just a collection of values. In python, we create lists using square brackets. So `[3, 4, 5]` is an example of a list of integers, and `['c', 'a', 'r']` is an example of a list of characters.\n",
    "\n",
    "You can use a for loop to go through the values of a list, just like you would with a string. So if, let's say, you wanted to write a function that returned the sum of every value in a list, you could do the following:"
   ]
  },
  {
   "cell_type": "code",
   "execution_count": null,
   "metadata": {
    "id": "QdWsHfavGvau"
   },
   "outputs": [],
   "source": [
    "def sum_list(l):\n",
    "  # first we make a variable to store our sum, which starts out as 0\n",
    "  sum = 0\n",
    "  # then we loop through each value in our list l\n",
    "  for val in l:\n",
    "    # for each value val, we add it to sum\n",
    "    sum += val\n",
    "  # finally, we return our sum\n",
    "  return sum"
   ]
  },
  {
   "cell_type": "markdown",
   "metadata": {
    "id": "de1qYdnNHE4d"
   },
   "source": [
    "Run the code block above, and then test `sum_list` with whatever values you want."
   ]
  },
  {
   "cell_type": "code",
   "execution_count": null,
   "metadata": {
    "colab": {
     "base_uri": "https://localhost:8080/"
    },
    "id": "IOmtoyHUHJPV",
    "outputId": "f06c734c-173f-41bf-dab5-881d10ca6a56"
   },
   "outputs": [
    {
     "data": {
      "text/plain": [
       "5"
      ]
     },
     "execution_count": 12,
     "metadata": {},
     "output_type": "execute_result"
    }
   ],
   "source": [
    "sum_list([1, 2, 3, 4, 5, -10])"
   ]
  },
  {
   "cell_type": "markdown",
   "metadata": {
    "id": "5LmqUD4-Jh5j"
   },
   "source": [
    "### Range"
   ]
  },
  {
   "cell_type": "markdown",
   "metadata": {
    "id": "zhPGsvh4JpVE"
   },
   "source": [
    "*hint: this may be useful to check if a number is prime*\n",
    "\n",
    "Often, we want to loop through all of the integers in a certain range. For instance, maybe we want to add all the integers below 6.\n",
    "\n",
    "We can do that using for loops, and something called a range. In Python, the `range` function generates a collection of integers between two integers. So, `range(1, 4)` will give you a collection of all the integers between 1 and 4 (1 inclusive, 4 exclusive), which are 1, 2, and 3. If you give only one number to `range`, it will assume your lower bound is 0.\n",
    "\n",
    "And you can loop through a range, just like you would a string or a list. So if you want a function that sums all of the integers below a certain integer `n`, you can do the following:"
   ]
  },
  {
   "cell_type": "code",
   "execution_count": null,
   "metadata": {
    "id": "5KgFyNvqKvvP"
   },
   "outputs": [],
   "source": [
    "def sum_below(n):\n",
    "  sum = 0\n",
    "  for i in range(n):\n",
    "    sum += i\n",
    "  return sum"
   ]
  },
  {
   "cell_type": "markdown",
   "metadata": {
    "id": "joeLaHo4K5Mt"
   },
   "source": [
    "Run the block above, and then test out `sum_below` with whatever values you want"
   ]
  },
  {
   "cell_type": "code",
   "execution_count": null,
   "metadata": {
    "colab": {
     "base_uri": "https://localhost:8080/"
    },
    "id": "0R6dgEezK-V4",
    "outputId": "56dc5fab-8172-4e94-9502-4b161b57581d"
   },
   "outputs": [
    {
     "data": {
      "text/plain": [
       "15"
      ]
     },
     "execution_count": 21,
     "metadata": {},
     "output_type": "execute_result"
    }
   ],
   "source": [
    "sum_below(6)"
   ]
  },
  {
   "cell_type": "markdown",
   "metadata": {
    "id": "DNWFtEd3FyCW"
   },
   "source": [
    "## Your solution"
   ]
  },
  {
   "cell_type": "code",
   "execution_count": null,
   "metadata": {
    "id": "UQD3UTw5Foyv"
   },
   "outputs": [],
   "source": [
    "def puzzle_4(ints):\n",
    "  # Write your code below!"
   ]
  },
  {
   "cell_type": "code",
   "execution_count": null,
   "metadata": {},
   "outputs": [],
   "source": [
    "runner.run_puzzle_4(puzzle_4, [123, 1657, 4312, 7717, 5678467, 3793, 1292, 77339, 198273, 928, 3427])"
   ]
  },
  {
   "cell_type": "markdown",
   "metadata": {
    "id": "29vKwLU4LW4M"
   },
   "source": [
    "# Puzzle 5"
   ]
  },
  {
   "cell_type": "markdown",
   "metadata": {
    "id": "0qsY1oqVxLGQ"
   },
   "source": [
    "*You find the value you were told to calculate, but you can't figure out what to do with it. So you look around the room, careful not to get your fingerprints anywhere. You find a closet in the corner, and when you open it you see a safe with a number keypad. You decide to try entering the number you found, and when you do, the save opens! Inside, you find a single sticky note and a UV flashlight. On the sticky note, you find the following table:*\n",
    "\n",
    "| I | V | X | L | C | D | M |\n",
    "|----|----|----|----|----|----|----|\n",
    "| 1 | 5 | 10| 50|100|500|1000|\n",
    "\n",
    "*You then take the flashlight, and shine it around the room. When the beam hits the exposed floorboards near the door, there are letters. On closer inspection, there seems to be many rows of text, where each row consists of some combination of the letters from the table on the sticky note!*\n",
    "\n",
    "Consider a modified Roman numeral system where the order of the characters don't matter. This means `IV` is equal to 6, and `VI` is also equal to 6. `IIIIII` is also equal to 6.\n",
    "\n",
    "Write a function that takes a list of strings of this modified Roman numeral system. Your list will be called `rom_nums`. Your function should return one string, where each character coresponds to a single string in `rom_nums`. Here's the procedure to convert a string of roman numerals into a character:\n",
    "\n",
    "1. Use the modified Roman numeral system desribed above to convert the string to decimal (integer) form.\n",
    "2. Find the remainder when you divide that integer by 26.\n",
    "3. Use `puzzle_0` to convert that remainder to a character."
   ]
  },
  {
   "cell_type": "markdown",
   "metadata": {},
   "source": [
    "## New Concepts"
   ]
  },
  {
   "cell_type": "markdown",
   "metadata": {
    "id": "uAsAutNT049M"
   },
   "source": [
    "### Elif\n",
    "We've learned about `if` statements and `else` statments. There's also something called `elif`.\n",
    "\n",
    "Essentially, if you wanted to write the following:\n",
    "```python\n",
    "if condition:\n",
    "  # run code\n",
    "else: \n",
    "  if condition2:\n",
    "    # run other code\n",
    "  else:\n",
    "    # run other other code\n",
    "```\n",
    "\n",
    "You could instead write:\n",
    "```python\n",
    "if condition:\n",
    "  # run code\n",
    "elif condition2:\n",
    "  # run other code\n",
    "else:\n",
    "  # run other other code\n",
    "```"
   ]
  },
  {
   "cell_type": "markdown",
   "metadata": {},
   "source": [
    "## Your solution"
   ]
  },
  {
   "cell_type": "code",
   "execution_count": null,
   "metadata": {},
   "outputs": [],
   "source": [
    "def puzzle_5(rom_nums):\n",
    "  # Write your code below!"
   ]
  },
  {
   "cell_type": "code",
   "execution_count": null,
   "metadata": {},
   "outputs": [],
   "source": [
    "# Once you've written your code, test it below!\n",
    "runner.run_puzzle_5(puzzle_5, [\"XVVIMCDD\", \"CLXCDXCLXIIILC\", \"LXVICXILXICLX\", \"CLXVICLIIIXCLI\", \"IICCDXIXVLDIIMCILXCIX\"])"
   ]
  },
  {
   "cell_type": "markdown",
   "metadata": {
    "id": "Y2K_v0X8PU8b"
   },
   "source": [
    "# Puzzle 6"
   ]
  },
  {
   "cell_type": "markdown",
   "metadata": {
    "id": "RB8OQTYRj8JP"
   },
   "source": [
    "*Once you've found the word, you realize that you still don't have a place to enter it! You figure that maybe the word itself is a clue, but you're not sure what it means. As you're pondering, you mumble the word outloud, and as soon as it leaves your mouth the list of numbers on the screen dissapears, replaced by a single gibberish word. A moment later, another window appears.*\n",
    "\n",
    "*It says:* ***Do it again!***\n",
    "\n",
    "*And below that:* ***n * 102 - 1***\n",
    "\n",
    "*And below that, there's a bar that you can type in.*\n",
    "\n",
    "*You stand there for minute, staring at the screen uncomprehending. And then it hits you: you need to do the same thing with this string of gibberish as you did with the list of numbers! Except, first you need to turn it into numbers, multiply each number by 102, and subtract 1. Or you're misinterpreting the instructions... You decide to give it a try and hope for the best.*\n",
    "\n",
    "Write a function that takes a string `s`. Turn each of the characters in `s` into an integer, using the following prcedure:\n",
    "\n",
    "1. Use `puzzle_1` to convert form a character to an integer\n",
    "2. Multiply the integer from step 1 by `102`\n",
    "3. Subtract `1` from the product you found in step 2\n",
    "\n",
    "Find and return the sum of the resulting integers, but only the ones that are prime!"
   ]
  },
  {
   "cell_type": "code",
   "execution_count": null,
   "metadata": {
    "colab": {
     "base_uri": "https://localhost:8080/",
     "height": 106
    },
    "id": "Oh2Nwarljpts",
    "outputId": "f74833f7-f652-4add-e47e-842871971e76"
   },
   "outputs": [],
   "source": [
    "def puzzle_6(s):\n",
    "  # Write your code below!"
   ]
  },
  {
   "cell_type": "code",
   "execution_count": null,
   "metadata": {
    "id": "4dPvF5EDnPrt"
   },
   "outputs": [],
   "source": [
    "# Once you've written your code, test it below!\n",
    "runner.run_puzzle_6(puzzle_6, \"sdfhhazsdhbfuwqekmucrrronyuiydfwsfhajhbvnvqoal\")"
   ]
  },
  {
   "cell_type": "markdown",
   "metadata": {
    "id": "_xXmI9P7UEgy"
   },
   "source": [
    "# Puzzle 7: The Finale!\n",
    "You will need all of the previous puzzles to solve this"
   ]
  },
  {
   "cell_type": "markdown",
   "metadata": {
    "id": "Rx3plwCnqvrn"
   },
   "source": [
    "*As soon as you find the answer, you type it into the bar on the screen, and press enter. For a moment, nothing happens. And then the screen goes black. A moment later, words start appearing. They seem to be instructions, but there are parts that are missing, replaced with numbers in brackets, and the missing chunks render all of it indecipherable. Then, below the instructions, a button labeled \"proceed\" appears. You stare at the screen, hoping for inspiration. What could the numbers mean??*\n",
    "\n",
    "*This is the text:*\n",
    "\n",
    "***When your press proceed, you will find a [3]. You must decode it to find my final password. Go through each element in the [3], and turn it into an integer `n`. If `n` is [5], find the integer nearest to `n` that has a remainder of ([4] / 6962 - 11)  when divided by 5. If `n` is not [5], then calculate `n` + [6] + 2. Whatever number you find, calculate the remainder when you divide it by `26`, and turn it into a character.***\n",
    "\n",
    "*If only you could understand the numbers! And then it hits you.*\n",
    "\n",
    "Write a function that takes a [3] and follow the instructions above!\n"
   ]
  },
  {
   "cell_type": "code",
   "execution_count": null,
   "metadata": {
    "colab": {
     "base_uri": "https://localhost:8080/",
     "height": 106
    },
    "id": "e-vY5URL9H7a",
    "outputId": "2bfc3e08-610a-4386-d901-c612698d322c"
   },
   "outputs": [],
   "source": [
    "def puzzle_7(mystery):\n",
    "  # Write your code below!"
   ]
  },
  {
   "cell_type": "code",
   "execution_count": null,
   "metadata": {
    "id": "Uz187_UQ9Pvv"
   },
   "outputs": [],
   "source": [
    "# Once you've written your code, test it below!\n",
    "runner.run_puzzle_7(puzzle_7, \"vgyyxutj\")"
   ]
  }
 ],
 "metadata": {
  "colab": {
   "collapsed_sections": [
    "dwdHmS1P6w0O",
    "XomicBPIY70L",
    "ne3rL1fw9ooy",
    "l13x7exHZN6U",
    "7mW5NGzo9ytV",
    "6HehwyikC34k",
    "LN_EPbDgF0oQ",
    "nLN5kl8bHZch",
    "5LmqUD4-Jh5j",
    "6ZrKYo_HggoA",
    "K-KsGr4pO_wz"
   ],
   "provenance": []
  },
  "kernelspec": {
   "display_name": "Python 3",
   "name": "python3"
  },
  "language_info": {
   "name": "python"
  }
 },
 "nbformat": 4,
 "nbformat_minor": 0
}
