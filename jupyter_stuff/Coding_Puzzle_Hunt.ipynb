{
  "nbformat": 4,
  "nbformat_minor": 0,
  "metadata": {
    "colab": {
      "provenance": []
    },
    "kernelspec": {
      "name": "python3",
      "display_name": "Python 3"
    },
    "language_info": {
      "name": "python"
    }
  },
  "cells": [
    {
      "cell_type": "markdown",
      "source": [
        "# Coding Puzzle Hunt\n",
        "Hi! Thank you for participating in our 2025 Coding Puzzle Hunt! Here's a few things to know before you get started:\n",
        "\n",
        "1. Like we mentioned before, no experience with coding or Python is required. We'll teach the important concepts you need to know as you progress through this puzzle.\n",
        "2. You aren't expected to finish all 8 puzzles, but try your best!\n",
        "3. Feel free to ask us and people around you for help.\n",
        "4. Prizes will be announced!\n",
        "\n",
        "To run code, press the arrow sign on the top left corner of the code blocks."
      ],
      "metadata": {
        "id": "pbW4BTg_Uhk6"
      }
    },
    {
      "cell_type": "markdown",
      "source": [
        "## Puzzle 0 (Demonstration)"
      ],
      "metadata": {
        "id": "xsF639aEV9EP"
      }
    },
    {
      "cell_type": "markdown",
      "source": [
        "Objective:\\\n",
        "Given an integer, convert it to a character based off the [ASCII table](https://www.asciitable.com/)."
      ],
      "metadata": {
        "id": "vmx09YRd1Tg-"
      }
    },
    {
      "cell_type": "code",
      "source": [
        "def puzzle_0(var_int):\n",
        "  # Write your code below!\n"
      ],
      "metadata": {
        "id": "cQ720h7L1DQE"
      },
      "execution_count": null,
      "outputs": []
    },
    {
      "cell_type": "code",
      "source": [
        "# Once you've written your code, test it below!\n"
      ],
      "metadata": {
        "id": "z52BkGQ55T5d"
      },
      "execution_count": null,
      "outputs": []
    },
    {
      "cell_type": "markdown",
      "source": [
        "## Concepts to Know\n",
        "### Data Types\n",
        "In Python, there are **data types**, which represent categories of values that **variables** can store, and this determines what can happen to these variables.\n",
        "\n",
        "Some data types:\n",
        "- Text-based values are strings, which Python labels as `str`. Examples: `\"wow\"`, `'string'`, `\"s\"`, `'here'`. Note that there's no difference between `' '` and `\" \"`. `chr()` takes an integer for an input, and converts it into a character.\n",
        "- Numeric-based variables are integers or floats (integers are whole numbers, floats are decimals), which Python labels as `int` and `float` respectively. Examples: `1`, `123232`, `1.3123`. Note that there are no quotes around these values.\n",
        "- Boolean values are true/false, which Python labels as `bool`. There are only two possible values for values that are boolean: `True` and `False`.\n",
        "\n",
        "These data types are **case sensitive**. That means that upper-case letters are not equivalent to lower-case letters (`\"too\"` and `\"Too\"` are not the same)\n",
        "\n",
        "### Functions\n",
        "**Functions** are chunks of code. If you've ever used Scratch, it's essentially the same thing. These functions can be called, and the chunk of code that's in the function will run.\n",
        "\n",
        "Like a math function, some functions have inputs. The function can utilize this input to create an output.\n",
        "\n",
        "Here's an example of a Python function:\n",
        "```python\n",
        "def foo(number):\n",
        "  # where all the code goes here.\n",
        "  # make sure that your code is indented!!!!!\n",
        "  # By the way, by putting a # in front of the line, it creates a comment! Comments are not run\n",
        "  return number + 3\n",
        "```\n",
        "`foo` is the name of the function, and `number` is the input. `return` allows you to return an output for the function. Note that since 3 is being added to `number`, Python assumes `number` is a numeric value (int, float).\n",
        "Functions can be called. For instance:\\\n",
        "`foo(4)` would be equal to `7`.\n",
        "\n",
        "This can be stored in a **variable**, which allows it to be called later.\n",
        "```python\n",
        "new_num = foo(4)\n",
        "print(new_num)\n",
        "```\n",
        "`print()` is a built-in function that you can call to print values out. Note that it needs an input, and that this **is not the same as an output**. An output uses the `return` keyword, while `print()` just puts a value into the console so you can see it.\n",
        "\n",
        "If this code were run, then the console would show:\n",
        "```\n",
        "7\n",
        "```"
      ],
      "metadata": {
        "id": "jFhq8PNVwPRr"
      }
    },
    {
      "cell_type": "markdown",
      "source": [
        "# Puzzle 1\n",
        "Given an integer, shift it up by 3, then convert it to a character based off the ASCII table."
      ],
      "metadata": {
        "id": "AOeIt73644Mg"
      }
    },
    {
      "cell_type": "code",
      "source": [
        "def puzzle_1(var_int):\n",
        "  # Write your code below!\n"
      ],
      "metadata": {
        "id": "ZO1NNREh43pm"
      },
      "execution_count": null,
      "outputs": []
    },
    {
      "cell_type": "code",
      "source": [
        "# Once you've written your code, test it below!"
      ],
      "metadata": {
        "id": "WSCOS8ll6GuZ"
      },
      "execution_count": null,
      "outputs": []
    },
    {
      "cell_type": "markdown",
      "source": [
        "# Puzzle 2\n",
        "Given a **list** of integers, take the remainder of the integers when divided by 65, then convert it to a list of characters."
      ],
      "metadata": {
        "id": "gXA7qXSc6SLg"
      }
    },
    {
      "cell_type": "code",
      "source": [
        "def puzzle_2(var_intl):\n",
        "  # Write your code below!\n"
      ],
      "metadata": {
        "id": "ohTWv4XI7eCm"
      },
      "execution_count": null,
      "outputs": []
    },
    {
      "cell_type": "code",
      "source": [
        "# Once you've written your code, test it below!\n"
      ],
      "metadata": {
        "id": "EghSwqR48b1B"
      },
      "execution_count": null,
      "outputs": []
    },
    {
      "cell_type": "markdown",
      "source": [
        "## Concepts to Know\n",
        "### Loops\n",
        "Because this has a list, it's best to **iterate** through the list, to get each individual element in the list.\n",
        "Python uses for-loops, which are loops that run a designated number of times.\n",
        "```python\n",
        "for i in range(3):\n",
        "  # make sure the code you are running in the loop is indented\n",
        "  print(i)\n",
        "```\n",
        "This would print:\n",
        "```\n",
        "0\n",
        "1\n",
        "2\n",
        "```\n",
        "Because it starts counting at 0, and goes up until `i` is no longer less than 3.\n",
        "\n",
        "Note: to get the length of the list, you can call `len()`, which takes in the list, and returns the length of the list.\n",
        "\n",
        "### Operations\n",
        "Here are some operations that can be performed on integers:\n",
        "- Modulus: `%` - this takes the remainder of an integer, written like `dividend % divisor`, which returns the remainder.\n",
        "- Basic arithmetic - addition, subtraction, multiplication, and division can be done with `+`, `-`, `*`, `/` respectively.\\\n",
        "Note that division with integers will floor the value, or round down. For example, `5 / 2` is equal to `2` in Python.\n",
        "- Powers `**` - this raises an integer to a power, written like `integer ** power`"
      ],
      "metadata": {
        "id": "ffLyQrtf7ZU8"
      }
    },
    {
      "cell_type": "markdown",
      "source": [
        "# Puzzle 3\n",
        "Given a string (of unknown length), convert it to a list of integers. Return the sum of the list of integers."
      ],
      "metadata": {
        "id": "xC-gOYRkAilG"
      }
    },
    {
      "cell_type": "code",
      "source": [
        "def puzzle_3(var_str):\n",
        "  # Write your code below!\n"
      ],
      "metadata": {
        "id": "VlquOQogA4qm"
      },
      "execution_count": null,
      "outputs": []
    },
    {
      "cell_type": "code",
      "source": [
        "# Once you've written your code, test it below!\n"
      ],
      "metadata": {
        "id": "uj-r_tRHBBZ2"
      },
      "execution_count": null,
      "outputs": []
    },
    {
      "cell_type": "markdown",
      "source": [
        "# Puzzle 4\n",
        "Given a lowercase string, identify the characters of which their ASCII decimal value is prime, and shift the string up by half of its ASCII decimal value floored. Make sure that the characters stay as lowercase (use modulus!).\n",
        "\n",
        "For example, since `a` has a prime decimal value of `97`, we shift it up by `97 / 2`, yielding `145`. Since `145` is outside the range of lowercase letters, we take `(97 / 2) % 26`, then add that to `97` (where `a` starts), resulting in `119`, which corresponds to the final character of `w` according to the ASCII table. If this doesn't make sense, this is a [Caesar cipher](https://www.geeksforgeeks.org/caesar-cipher-in-cryptography/), except the shift can be greater than 26 by taking the modulus of the shifting value."
      ],
      "metadata": {
        "id": "FZESwQzCBMy0"
      }
    },
    {
      "cell_type": "code",
      "source": [
        "def puzzle_4(var_str):\n",
        "  # Write your code below!\n"
      ],
      "metadata": {
        "id": "SvAKZSTMxAEc"
      },
      "execution_count": null,
      "outputs": []
    },
    {
      "cell_type": "code",
      "source": [
        "# Once you've written your code, test it below!\n"
      ],
      "metadata": {
        "id": "hGBKTHjdxHrm"
      },
      "execution_count": null,
      "outputs": []
    },
    {
      "cell_type": "markdown",
      "source": [
        "# Puzzle 5\n",
        "Consider a modified Roman numeral system where the order of the characters don't matter. This means `IV` is equal to 6, and `VI` is also equal to 6. `IIIIII` is also equal to 6.\n",
        "\n",
        "| I | V | X | L | C | D | M |\n",
        "|----|----|----|----|----|----|----|\n",
        "| 1 | 5 | 10| 50|100|500|1000|\n",
        "\n",
        "Given a string of this modified Roman numeral system, convert it into decimal (integer) form, and output the corresponding character of this integer.\n",
        "\n",
        "\n",
        "\n"
      ],
      "metadata": {
        "id": "0qsY1oqVxLGQ"
      }
    },
    {
      "cell_type": "code",
      "source": [
        "def puzzle_4(var_rom):\n",
        "  # Write your code below!\n"
      ],
      "metadata": {
        "id": "Py9I-L0I0tU4"
      },
      "execution_count": null,
      "outputs": []
    },
    {
      "cell_type": "code",
      "source": [
        "# Once you've written your code, test it below!\n"
      ],
      "metadata": {
        "id": "dfqE7jF_03VE"
      },
      "execution_count": null,
      "outputs": []
    },
    {
      "cell_type": "markdown",
      "source": [
        "## Concepts to Know\n",
        "### If-Else Statements\n",
        "You can run segments of code based on **conditionals**, or whether or not something is true. This way, you can compare"
      ],
      "metadata": {
        "id": "uAsAutNT049M"
      }
    }
  ]
}